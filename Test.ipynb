{
 "cells": [
  {
   "cell_type": "code",
   "execution_count": 22,
   "metadata": {
    "collapsed": false
   },
   "outputs": [],
   "source": [
    "from mdict_query import IndexBuilder\n",
    "bd = IndexBuilder('vocab.mdx')"
   ]
  },
  {
   "cell_type": "code",
   "execution_count": 23,
   "metadata": {
    "collapsed": false,
    "scrolled": true
   },
   "outputs": [
    {
     "data": {
      "text/plain": [
       "['Bureau of Justice Assistance',\n",
       " 'Bureau of Justice Statistics',\n",
       " 'chief justice',\n",
       " 'court of justice',\n",
       " 'Department of Justice',\n",
       " 'Department of Justice Canada',\n",
       " 'do justice',\n",
       " 'fugitive from justice',\n",
       " 'injustice',\n",
       " 'International Court of Justice',\n",
       " 'Justice',\n",
       " 'justice',\n",
       " 'Justice Department',\n",
       " 'justice of the peace',\n",
       " 'National Institute of Justice',\n",
       " 'obstruction of justice',\n",
       " 'poetic justice',\n",
       " 'Revolutionary Justice Organization',\n",
       " 'United Nations Crime Prevention and Criminal Justice']"
      ]
     },
     "execution_count": 23,
     "metadata": {},
     "output_type": "execute_result"
    }
   ],
   "source": [
    "keys = bd.get_mdx_keys('*justice*');keys"
   ]
  },
  {
   "cell_type": "code",
   "execution_count": 24,
   "metadata": {
    "collapsed": false
   },
   "outputs": [],
   "source": [
    "js = bd.get_mdd_keys('*.js')"
   ]
  },
  {
   "cell_type": "code",
   "execution_count": 25,
   "metadata": {
    "collapsed": false
   },
   "outputs": [],
   "source": [
    "bd.mdd_lookup(js[0])[0].decode('utf-8');"
   ]
  },
  {
   "cell_type": "code",
   "execution_count": 26,
   "metadata": {
    "collapsed": true
   },
   "outputs": [],
   "source": [
    "png = bd.get_mdd_keys(\"*.jpg\")"
   ]
  },
  {
   "cell_type": "code",
   "execution_count": 12,
   "metadata": {
    "collapsed": false,
    "scrolled": true
   },
   "outputs": [
    {
     "data": {
      "text/plain": [
       "['\\\\p\\\\ceV.jpg',\n",
       " '\\\\p\\\\CWL.jpg',\n",
       " '\\\\p\\\\CX3.jpg',\n",
       " '\\\\p\\\\EbK.jpg',\n",
       " '\\\\p\\\\eNl.jpg',\n",
       " '\\\\p\\\\fi4.jpg',\n",
       " '\\\\p\\\\irY.jpg',\n",
       " '\\\\p\\\\JB0.jpg',\n",
       " '\\\\p\\\\K6t.jpg',\n",
       " '\\\\p\\\\M7J.jpg',\n",
       " '\\\\p\\\\mNP.jpg',\n",
       " '\\\\p\\\\Nh7.jpg',\n",
       " '\\\\p\\\\obP.jpg',\n",
       " '\\\\p\\\\PAG.jpg',\n",
       " '\\\\p\\\\q1w.jpg',\n",
       " '\\\\p\\\\QEg.jpg',\n",
       " '\\\\p\\\\RFU.jpg',\n",
       " '\\\\p\\\\so9.jpg',\n",
       " '\\\\p\\\\TV5.jpg',\n",
       " '\\\\p\\\\WUh.JPG',\n",
       " '\\\\p\\\\xA9.jpg',\n",
       " '\\\\p\\\\yT9.jpg']"
      ]
     },
     "execution_count": 12,
     "metadata": {},
     "output_type": "execute_result"
    }
   ],
   "source": [
    "png"
   ]
  },
  {
   "cell_type": "code",
   "execution_count": 27,
   "metadata": {
    "collapsed": false
   },
   "outputs": [],
   "source": [
    "byte_list = bd.mdd_lookup(png[0])"
   ]
  },
  {
   "cell_type": "code",
   "execution_count": 21,
   "metadata": {
    "collapsed": false
   },
   "outputs": [],
   "source": [
    "f = open(\"test.jpg\",\"wb\")\n",
    "f.write(byte_list[0])\n",
    "f.close()"
   ]
  },
  {
   "cell_type": "code",
   "execution_count": null,
   "metadata": {
    "collapsed": true
   },
   "outputs": [],
   "source": []
  }
 ],
 "metadata": {
  "kernelspec": {
   "display_name": "Python [Root]",
   "language": "python",
   "name": "Python [Root]"
  },
  "language_info": {
   "codemirror_mode": {
    "name": "ipython",
    "version": 3
   },
   "file_extension": ".py",
   "mimetype": "text/x-python",
   "name": "python",
   "nbconvert_exporter": "python",
   "pygments_lexer": "ipython3",
   "version": "3.5.2"
  }
 },
 "nbformat": 4,
 "nbformat_minor": 0
}
